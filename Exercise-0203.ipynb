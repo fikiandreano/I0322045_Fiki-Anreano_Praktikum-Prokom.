{
 "cells": [
  {
   "cell_type": "code",
   "execution_count": 2,
   "metadata": {},
   "outputs": [
    {
     "name": "stdout",
     "output_type": "stream",
     "text": [
      "fiki anreano siagian\n",
      "I0322045\n",
      "B\n"
     ]
    }
   ],
   "source": [
    "print(input(\"Nama: \"))\n",
    "print(input(\"NIM: \"))\n",
    "print(input(\"Kelas: \"))"
   ]
  },
  {
   "attachments": {},
   "cell_type": "markdown",
   "metadata": {},
   "source": [
    "## 1."
   ]
  },
  {
   "attachments": {},
   "cell_type": "markdown",
   "metadata": {},
   "source": [
    "* **A** Hitunglah luas Prisma Segitiga dengan ketentuan sebagai berikut:\n",
    "    * Alas dan tutup prisma merupakan segitiga\n",
    "    * Terdapat 3 persegi panjang yang menyinggung alas dan tutup prisma\n",
    "    * Sisi persegi panjang yang menyinggung segitiga adalah sisi lebar\n",
    "```python\n",
    "    dictionary_figure = {\"Persegi\":{\"Sisi\":22},\n",
    "                        \"Persegi Panjang\":{\"Panjang\":10,\"Lebar\":5},\n",
    "                        \"Segitiga Sama Sisi\":{\"Sisi\":6,\"Tinggi\":3**(1/2) * 3},\n",
    "                        \"Lingkaran\":{\"Diameter\":7}}\n",
    "```\n",
    "* **B** Hitunglah luas Tabung dengan ketentuan sebagai berikut:\n",
    "    * Alas dan tutup tabung merupakan lingkaran\n",
    "    * Terdapat 1 persegi yang menyinggung alas dan tutup tabung\n",
    "    * Persegi yang ada mengelilingi lingkaran hingga sisi dari persegi saling bertemu\n",
    "\n",
    "> **note:** *Pada soal ini kalian hanya boleh menggunakan key-value pair dan index pada list. Tidak diperbolehkan menulis secara langsung dimensi dari figure*"
   ]
  },
  {
   "cell_type": "code",
   "execution_count": null,
   "metadata": {},
   "outputs": [],
   "source": [
    "dictionary_figure = {\"persegi\":{\"sisi\":22},\n",
    "                     \"persegi panjang\":{\"panjang\":10as,\"lebar\":5},\n",
    "                     \"segitiga sama sisi\":{\"sisi\":6,\"tinggi\":3**(1/2) * 3}\n",
    "                     \"lingkaran\":{\"diameter\":7}},\n",
    "\n",
    "a = (dictionary_figure[\"segitiga sama sisi\"][\"sisi\"])\n",
    "t = (dictionary_figure[\"segitiga sama sisi\"][\"tinggi\"])\n",
    "p = (dictionary_figure[\"persegi panjang\"][\"panjang\"])\n",
    "l = (dictionary_figure[\"persegi panjang\"][\"lebar\"])\n",
    "d = (dictionary_figure[\"lingkaran\"][\"diameter\"])\n",
    "s = (dictionary_figure[\"persegi\"][\"sisi\"])\n",
    "phi= 22/7\n",
    "\n",
    "hasila = (a*t/2)*2 + (p*1)*3\n",
    "hasilb = (phi*(d**2)/4) + (phi*d*s)\n",
    "print(\"jadi,luas permukaan prisma segitiga adalah\", \"(a*t/2)*2 + (p*l)*3 =\",round(hasila,2))\n",
    "print(\"jadi,luas permukaan tabung lingkran adalah\",\"(phi*(d**2)/4) + (phi*d*s) =\", round(hasilb,2))"
   ]
  },
  {
   "attachments": {},
   "cell_type": "markdown",
   "metadata": {},
   "source": [
    "## 2."
   ]
  },
  {
   "attachments": {},
   "cell_type": "markdown",
   "metadata": {},
   "source": [
    "Diberikan List sebagai berikut\n",
    "```Python\n",
    "    data = [8, 8, 4, 6, 8, 9, 6, 5, 4, 7]\n",
    "```\n",
    "* Tambahkan 3 angka baru ke dalam list\n",
    "* Tampilkan output list dengan berurutan dari yang terkecil hingga yang terbesar\n",
    "* Tentukan mean, median, dan modus pada list baru"
   ]
  },
  {
   "cell_type": "code",
   "execution_count": null,
   "metadata": {},
   "outputs": [],
   "source": [
    "a1 = int(input(\"masukkan angka pertama\"))\n",
    "a2 = int(input(\"masukkkan angka kedua\"))\n",
    "a3 = int(input(\"masukkan angka ketiga\"))\n",
    "a4 = [8, 8, 4, 6, 8, 9, 6, 5, 4, 7]\n",
    "\n",
    "a5 = [a1,a2,a3]\n",
    "a4.extend(a5)\n",
    "a4.sort ()\n",
    "print(\"urutan list data yang anda miliki adalah\", a4)\n",
    "\n",
    "m1 = (sum(a4))/13\n",
    "m2 = a4[6]\n",
    "m3 = max(a4, key=a4.count)\n",
    "print (\"mean yang didapat berdasarkan data milik anda adalah\", m1)\n",
    "print (\"mean yang didapat berdasarkan data milik anda adalah\", m2)\n",
    "print (\"mean yang didapat berdasarkan data milik anda adalah\", m3)"
   ]
  },
  {
   "attachments": {},
   "cell_type": "markdown",
   "metadata": {},
   "source": [
    "## 3. "
   ]
  },
  {
   "attachments": {},
   "cell_type": "markdown",
   "metadata": {},
   "source": [
    "Dalam pembuatan SIM ada beberapa syarat yang harus dipenuhi bagi para pembuat SIM yaitu:\n",
    "1. Pembuat SIM harus memiliki usia setidaknya 17 tahun\n",
    "2. Pembuat SIM lulus dalam tes kesehatan\n",
    "3. Pembuat SIM lulus dalam uji psikotes\n",
    "4. Pembuat SIM telah mengikuti ujian tertulis dengan nilai setidaknya 70\n",
    "5. Pembuat SIM lulus dalam simulasi berkendara\n",
    "6. Apabila pembuat SIM memiliki surat rekomendasi dari kursus berkendara maka pembuat SIM akan mendapatkan SIM (mengabaikan poin 1-5 apabila poin ke-6 terpenuhi)\n",
    "\n",
    "Buatlah input yang membuat setiap poin menjadi variabel. Output yang dihasilkan merupakan \"True\" apabila pembuat berhak mendapatkan SIM dan \"False\" apabila pembuat tidak berhak mendapatkan SIM.\n",
    "\n",
    "> **note:** *Tidak perlu menggunakan loops dalam membuat programnya*"
   ]
  },
  {
   "cell_type": "code",
   "execution_count": null,
   "metadata": {},
   "outputs": [],
   "source": [
    "nama = str(input(\"masukkan nama anda\"))\n",
    "u = int(input(\"berapa usia anda\"))\n",
    "sehat = str(input(\"apakah anda lulus tes kesehatan? (LULUS/TIDAK)\"))\n",
    "waras = str(input(\"apakah anda lulus tes psikotes? (LULUS/TIDAK)\"))\n",
    "ut = float(input(\"berapa skor ujian terulis anda(1-100)\"))\n",
    "simulasi = str(input(\"apakah anda lulus tes simulasi ? (LULUS/TIDAK)\"))\n",
    "surat = str(input(\"apakah anda memiliki surat rekomendasi dari kursus ? (PUNYA/TIDAK)\"))\n",
    "\n",
    "PUNYA = True\n",
    "LULUS = True\n",
    "TIDAK = False\n",
    "status = LULUS or TIDAK\n",
    "usia = u >= 17\n",
    "ujian_tulis =70>= ut >= 100\n",
    "\n",
    "a = (u and sehat and waras and ut and simulasi) or surat \n",
    "\n",
    "print (\"atas nama\", nama, \"usia\", u, \"dinyatakan\",a)"
   ]
  }
 ],
 "metadata": {
  "kernelspec": {
   "display_name": "Python 3",
   "language": "python",
   "name": "python3"
  },
  "language_info": {
   "codemirror_mode": {
    "name": "ipython",
    "version": 3
   },
   "file_extension": ".py",
   "mimetype": "text/x-python",
   "name": "python",
   "nbconvert_exporter": "python",
   "pygments_lexer": "ipython3",
   "version": "3.11.2"
  },
  "orig_nbformat": 4,
  "vscode": {
   "interpreter": {
    "hash": "5addf786bcd861d1ce5006f23111f8cbb206731e5b61b0a5632ba9e0252558a8"
   }
  }
 },
 "nbformat": 4,
 "nbformat_minor": 2
}
