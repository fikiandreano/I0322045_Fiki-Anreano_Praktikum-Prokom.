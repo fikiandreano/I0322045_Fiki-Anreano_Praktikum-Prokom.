{
 "cells": [
  {
   "attachments": {},
   "cell_type": "markdown",
   "metadata": {},
   "source": [
    "1. Tulis program dengan fungsi untuk menentukan yang paling besar dari empat angka yang diberikan!\n",
    "     ###### Note: Angka ditentukan sendiri oleh praktikan"
   ]
  },
  {
   "cell_type": "code",
   "execution_count": 6,
   "metadata": {},
   "outputs": [
    {
     "name": "stdout",
     "output_type": "stream",
     "text": [
      "Angka terbesar adalah: 5151\n"
     ]
    }
   ],
   "source": [
    "# Kerjakan Nomor 1 di bawah ini\n",
    "\n",
    "\n",
    "def angka_terbesar(angka1, angka2, angka3, angka4):\n",
    "    terbesar = angka1\n",
    "    \n",
    "    if angka2 > terbesar:\n",
    "        terbesar = angka2\n",
    "    \n",
    "    if angka3 > terbesar:\n",
    "        terbesar = angka3\n",
    "    \n",
    "    if angka4 > terbesar:\n",
    "        terbesar = angka4\n",
    "    \n",
    "    return terbesar\n",
    "\n",
    "# Contoh penggunaan fungsi\n",
    "angka1 = int(input(\"Masukkan angka pertama: \"))\n",
    "angka2 = int(input(\"Masukkan angka kedua: \"))\n",
    "angka3 = int(input(\"Masukkan angka ketiga: \"))\n",
    "angka4 = int(input(\"Masukkan angka keempat: \"))\n",
    "\n",
    "hasil = angka_terbesar(angka1, angka2, angka3, angka4)\n",
    "print(\"Angka terbesar adalah:\", hasil)\n"
   ]
  },
  {
   "attachments": {},
   "cell_type": "markdown",
   "metadata": {},
   "source": [
    "2. Tulis fungsi Python yang mengambil list awal dan menampilkan list baru dengan angka unik (tidak ada angka yang sama) dari list yang pertama."
   ]
  },
  {
   "cell_type": "code",
   "execution_count": null,
   "metadata": {},
   "outputs": [],
   "source": [
    "list_awal = [9,9,9,9,9,9,9,10,11,13,14,15,17,19]"
   ]
  },
  {
   "cell_type": "code",
   "execution_count": 8,
   "metadata": {},
   "outputs": [
    {
     "name": "stdout",
     "output_type": "stream",
     "text": [
      "List baru dengan angka-angka unik: [9, 10, 11, 13, 14, 15, 17, 19]\n"
     ]
    }
   ],
   "source": [
    "# Kerjakan Nomor 2 di bawah ini\n",
    "\n",
    "def angka_unik(list_awal):\n",
    "    list_baru = []\n",
    "    \n",
    "    for angka in list_awal:\n",
    "        if angka not in list_baru:\n",
    "            list_baru.append(angka)\n",
    "    \n",
    "    return list_baru\n",
    "\n",
    "list_awal = [9,9,9,9,9,9,9,10,11,13,14,15,17,19]\n",
    "hasil = angka_unik(list_awal)\n",
    "print(\"List baru dengan angka-angka unik:\", hasil)\n"
   ]
  },
  {
   "attachments": {},
   "cell_type": "markdown",
   "metadata": {},
   "source": [
    "3. Hitunglah 2 angka yang dapat diinputkan dengan angka kedua menjadi pangkat bagi angka pertama, dan angka kedua menjadi pembagi angka pertama (tampilkan juga sisa hasil pembagiannya) \n",
    "\n",
    "clue : gunakan fungsi yang ada di built-in tanpa menggunakan sintaks operator seperti * ataupun /."
   ]
  },
  {
   "cell_type": "code",
   "execution_count": 9,
   "metadata": {},
   "outputs": [
    {
     "name": "stdout",
     "output_type": "stream",
     "text": [
      "Hasil pangkat: 8881784197001252323389053344726562500000000000000000000000000000000000000000000000000\n",
      "Sisa hasil pembagian: 0\n"
     ]
    }
   ],
   "source": [
    "# Kerjakan Nomor 3 di bawah ini\n",
    "\n",
    "def hitung_pangkat_dan_pembagian(angka_pertama, angka_kedua):\n",
    "    pangkat = pow(angka_pertama, angka_kedua)\n",
    "    pembagian = angka_pertama % angka_kedua\n",
    "    return pangkat, pembagian\n",
    "\n",
    "angka_pertama = int(input(\"Masukkan angka pertama: \"))\n",
    "angka_kedua = int(input(\"Masukkan angka kedua: \"))\n",
    "\n",
    "hasil_pangkat, hasil_pembagian = hitung_pangkat_dan_pembagian(angka_pertama, angka_kedua)\n",
    "\n",
    "print(\"Hasil pangkat:\", hasil_pangkat)\n",
    "print(\"Sisa hasil pembagian:\", hasil_pembagian)\n"
   ]
  }
 ],
 "metadata": {
  "kernelspec": {
   "display_name": "Python 3",
   "language": "python",
   "name": "python3"
  },
  "language_info": {
   "codemirror_mode": {
    "name": "ipython",
    "version": 3
   },
   "file_extension": ".py",
   "mimetype": "text/x-python",
   "name": "python",
   "nbconvert_exporter": "python",
   "pygments_lexer": "ipython3",
   "version": "3.10.11"
  },
  "orig_nbformat": 4,
  "vscode": {
   "interpreter": {
    "hash": "5addf786bcd861d1ce5006f23111f8cbb206731e5b61b0a5632ba9e0252558a8"
   }
  }
 },
 "nbformat": 4,
 "nbformat_minor": 2
}
