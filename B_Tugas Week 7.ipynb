{
 "cells": [
  {
   "cell_type": "code",
   "execution_count": 12,
   "metadata": {},
   "outputs": [
    {
     "name": "stdout",
     "output_type": "stream",
     "text": [
      "[[1, 4]]\n"
     ]
    }
   ],
   "source": [
    "#Buatlah sebuah fungsi untuk membuat matrix berdasarkan input dari user\n",
    "def create_matrix():\n",
    "    rows = int(input(\"Masukkan jumlah baris: \"))\n",
    "    columns = int(input(\"Masukkan jumlah kolom: \"))\n",
    "    \n",
    "    matrix = []\n",
    "    for i in range(rows):\n",
    "        row = []\n",
    "        for j in range(columns):\n",
    "            element = int(input(\"Masukkan elemen pada baris ke-{} dan kolom ke-{}: \".format(i + 1, j + 1)))\n",
    "            row.append(element)\n",
    "        matrix.append(row)\n",
    "    \n",
    "    return matrix\n",
    "\n",
    "matrix = create_matrix()\n",
    "print(matrix)\n",
    "\n",
    "\n",
    "\n",
    "\n"
   ]
  },
  {
   "cell_type": "code",
   "execution_count": 14,
   "metadata": {},
   "outputs": [
    {
     "name": "stdout",
     "output_type": "stream",
     "text": [
      "Masukkan elemen-elemen matriks pertama:\n",
      "Masukkan elemen-elemen matriks kedua:\n",
      "Hasil pengurangan matriks:\n",
      "[-3, 0, 5, 0]\n",
      "[-61, -42, -62, -37]\n"
     ]
    }
   ],
   "source": [
    "#Buatlah fungsi untuk melakukan pengurangan antar dua matrix berdasarkan input user\n",
    "\n",
    "def subtract_matrices():\n",
    "    rows = int(input(\"Masukkan jumlah baris: \"))\n",
    "    columns = int(input(\"Masukkan jumlah kolom: \"))\n",
    "    \n",
    "    matrix1 = []\n",
    "    matrix2 = []\n",
    "    \n",
    "    print(\"Masukkan elemen-elemen matriks pertama:\")\n",
    "    for i in range(rows):\n",
    "        row = []\n",
    "        for j in range(columns):\n",
    "            element = int(input(\"Masukkan elemen pada baris ke-{} dan kolom ke-{}: \".format(i + 1, j + 1)))\n",
    "            row.append(element)\n",
    "        matrix1.append(row)\n",
    "    \n",
    "    print(\"Masukkan elemen-elemen matriks kedua:\")\n",
    "    for i in range(rows):\n",
    "        row = []\n",
    "        for j in range(columns):\n",
    "            element = int(input(\"Masukkan elemen pada baris ke-{} dan kolom ke-{}: \".format(i + 1, j + 1)))\n",
    "            row.append(element)\n",
    "        matrix2.append(row)\n",
    "    \n",
    "    result = []\n",
    "    for i in range(rows):\n",
    "        row = []\n",
    "        for j in range(columns):\n",
    "            element = matrix1[i][j] - matrix2[i][j]\n",
    "            row.append(element)\n",
    "        result.append(row)\n",
    "    \n",
    "    return result\n",
    "\n",
    "    #Tulis kode kamu disini\n",
    "\n",
    "result = subtract_matrices()\n",
    "print(\"Hasil pengurangan matriks:\")\n",
    "for row in result:\n",
    "    print(row)\n",
    "\n",
    "   "
   ]
  },
  {
   "cell_type": "code",
   "execution_count": 15,
   "metadata": {},
   "outputs": [
    {
     "name": "stdout",
     "output_type": "stream",
     "text": [
      "Masukkan elemen-elemen matriks:\n",
      "Hasil pembagian matriks dengan skalar:\n",
      "[1.2]\n"
     ]
    }
   ],
   "source": [
    "#Buatlah Fungsi untuk melakukan pembagian matrix dengan skalar berdasarkan input user\n",
    "\n",
    "def divide_matrix_by_scalar():\n",
    "    rows = int(input(\"Masukkan jumlah baris: \"))\n",
    "    columns = int(input(\"Masukkan jumlah kolom: \"))\n",
    "    \n",
    "    matrix = []\n",
    "    \n",
    "    print(\"Masukkan elemen-elemen matriks:\")\n",
    "    for i in range(rows):\n",
    "        row = []\n",
    "        for j in range(columns):\n",
    "            element = int(input(\"Masukkan elemen pada baris ke-{} dan kolom ke-{}: \".format(i + 1, j + 1)))\n",
    "            row.append(element)\n",
    "        matrix.append(row)\n",
    "    \n",
    "    scalar = int(input(\"Masukkan skalar pembagi: \"))\n",
    "    \n",
    "    result = []\n",
    "    for i in range(rows):\n",
    "        row = []\n",
    "        for j in range(columns):\n",
    "            element = matrix[i][j] / scalar\n",
    "            row.append(element)\n",
    "        result.append(row)\n",
    "    \n",
    "    return result\n",
    "\n",
    "    #Tulis kode kamu disini\n",
    "\n",
    "\n",
    "result = divide_matrix_by_scalar()\n",
    "print(\"Hasil pembagian matriks dengan skalar:\")\n",
    "for row in result:\n",
    "    print(row)\n"
   ]
  }
 ],
 "metadata": {
  "kernelspec": {
   "display_name": "Python 3",
   "language": "python",
   "name": "python3"
  },
  "language_info": {
   "codemirror_mode": {
    "name": "ipython",
    "version": 3
   },
   "file_extension": ".py",
   "mimetype": "text/x-python",
   "name": "python",
   "nbconvert_exporter": "python",
   "pygments_lexer": "ipython3",
   "version": "3.10.11"
  },
  "orig_nbformat": 4
 },
 "nbformat": 4,
 "nbformat_minor": 2
}
